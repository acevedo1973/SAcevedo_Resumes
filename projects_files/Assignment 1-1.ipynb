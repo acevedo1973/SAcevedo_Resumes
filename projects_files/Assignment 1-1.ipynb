{
 "cells": [
  {
   "cell_type": "code",
   "execution_count": null,
   "metadata": {},
   "outputs": [],
   "source": [
    "'''\n",
    "Q1. Write a Python program to get the Python version you are using.\n",
    "'''"
   ]
  },
  {
   "cell_type": "code",
   "execution_count": null,
   "metadata": {},
   "outputs": [],
   "source": [
    "'''\n",
    "Question 2: If X = '10', convert X to float and \n",
    "print that value and its type.\n",
    "'''\n"
   ]
  },
  {
   "cell_type": "code",
   "execution_count": null,
   "metadata": {},
   "outputs": [],
   "source": [
    "'''\n",
    "Question 3: b = 20 and c = 3.14, print b and c and their type. \n",
    "Type cast b to float and c to integer. \n",
    "Print the new values b and c and their type. \n",
    "'''"
   ]
  },
  {
   "cell_type": "code",
   "execution_count": null,
   "metadata": {},
   "outputs": [],
   "source": [
    "'''\n",
    "Question 4\" Break the following expression into multi-line statements with three lines:\n",
    "w = 4**2 + 2**4 - 3*2 + 8*2\n",
    "'''\n"
   ]
  },
  {
   "cell_type": "code",
   "execution_count": null,
   "metadata": {},
   "outputs": [],
   "source": [
    "'''\n",
    "Question 5: Using the pow() function, compute 10**2.\n",
    "'''\n"
   ]
  },
  {
   "cell_type": "code",
   "execution_count": null,
   "metadata": {},
   "outputs": [],
   "source": [
    "\n",
    "a = \"It is\"\n",
    "b = \"me\"\n",
    "print(a + b) # string concatenation \n",
    "# The output of the print is \n",
    "# It isme\n",
    "'''\n",
    "Question 6: In the output for the code below there is no space between \n",
    "is and me, insert a space between them and print?\n",
    "'''"
   ]
  },
  {
   "cell_type": "code",
   "execution_count": null,
   "metadata": {},
   "outputs": [],
   "source": [
    "'''\n",
    "Question 7: Print the value of \"Python\"+ 3. What do you observe? Please fix the error\n",
    "'''"
   ]
  },
  {
   "cell_type": "code",
   "execution_count": null,
   "metadata": {},
   "outputs": [],
   "source": [
    "# Question 8: Generate the following output:\n",
    "**********\n"
   ]
  },
  {
   "cell_type": "code",
   "execution_count": null,
   "metadata": {},
   "outputs": [],
   "source": [
    "'''\n",
    "Q9  Write a Python program which accepts the radius of a circle from the user and compute the area.\n",
    "\n",
    "Sample Output  \n",
    "Radius = 2\n",
    "\n",
    "Area = 12.5666\n",
    "'''"
   ]
  },
  {
   "cell_type": "code",
   "execution_count": null,
   "metadata": {},
   "outputs": [],
   "source": [
    "'''\n",
    "Q10 Write a Python program to get the volume of a sphere with radius 6.\n",
    "\n",
    "'''"
   ]
  },
  {
   "cell_type": "code",
   "execution_count": null,
   "metadata": {},
   "outputs": [],
   "source": [
    "'''\n",
    "Q11 Write a Python program which accepts the user's first \n",
    "and last name and print them in reverse order with a space between them\n",
    "'''"
   ]
  },
  {
   "cell_type": "code",
   "execution_count": null,
   "metadata": {},
   "outputs": [],
   "source": [
    "'''\n",
    "Q 12 If a = 'California' and b = 'california', \n",
    "check if a equals b. If not can you make it equal in two ways\n",
    "'''\n"
   ]
  },
  {
   "cell_type": "code",
   "execution_count": null,
   "metadata": {},
   "outputs": [],
   "source": [
    "'''\n",
    "Q13 Write a Python program to accept a filename from the user and print the extension of that.\n",
    "\n",
    "Sample Filename = test.ipynb\n",
    "output = ipynb\n",
    "'''"
   ]
  },
  {
   "cell_type": "code",
   "execution_count": null,
   "metadata": {},
   "outputs": [],
   "source": [
    "'''\n",
    "Q14 If A = 'I am learning' and B = 'Python' can you convert A into \n",
    "uppercase and B into lowercase and then concatenate them?\n",
    "'''\n"
   ]
  },
  {
   "cell_type": "code",
   "execution_count": null,
   "metadata": {},
   "outputs": [],
   "source": [
    "'''\n",
    "Q15 Ask the user to enter their favorite book. Convert their \n",
    "input into title. \n",
    "'''\n",
    "book_name = input(\"Please enter the name of your favorite book: \")\n",
    "print(\"You like to read: \", book_name.title())"
   ]
  }
 ],
 "metadata": {
  "kernelspec": {
   "display_name": "Python 3 (ipykernel)",
   "language": "python",
   "name": "python3"
  },
  "language_info": {
   "codemirror_mode": {
    "name": "ipython",
    "version": 3
   },
   "file_extension": ".py",
   "mimetype": "text/x-python",
   "name": "python",
   "nbconvert_exporter": "python",
   "pygments_lexer": "ipython3",
   "version": "3.9.7"
  }
 },
 "nbformat": 4,
 "nbformat_minor": 4
}
